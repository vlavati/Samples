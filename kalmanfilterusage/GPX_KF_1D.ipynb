{
 "cells": [
  {
   "cell_type": "code",
   "execution_count": null,
   "metadata": {},
   "outputs": [],
   "source": [
    "from pykalman import KalmanFilter\n",
    "import numpy as np\n",
    "import matplotlib.pyplot as plt\n",
    "import time\n",
    "from rdp import rdp\n",
    "%matplotlib inline\n",
    "plt.rcParams['figure.figsize'] = [10, 10]"
   ]
  },
  {
   "cell_type": "code",
   "execution_count": null,
   "metadata": {},
   "outputs": [],
   "source": [
    "import gpxpy\n",
    "\n",
    "with open('m8t.gpx') as fh:\n",
    "    gpx_file = gpxpy.parse(fh)"
   ]
  },
  {
   "cell_type": "code",
   "execution_count": null,
   "metadata": {},
   "outputs": [],
   "source": [
    "segment = gpx_file.tracks[0].segments[1]\n",
    "\n",
    "import pandas as pd\n",
    "coords = pd.DataFrame([{'idx': i,\n",
    "                        'lat': p.latitude, \n",
    "                        'lon': p.longitude, \n",
    "                        'ele': p.elevation,\n",
    "                        'speed': p.speed,\n",
    "                        'time': p.time} for i, p in enumerate(segment.points)])\n",
    "coords.set_index('time', inplace=True)\n",
    "coords.head()"
   ]
  },
  {
   "cell_type": "code",
   "execution_count": null,
   "metadata": {},
   "outputs": [],
   "source": [
    "measurements_all = np.ma.masked_invalid(coords[['lon', 'lat', 'speed']].values)\n",
    "times_all = range(measurements_all.shape[0])"
   ]
  },
  {
   "cell_type": "code",
   "execution_count": null,
   "metadata": {},
   "outputs": [],
   "source": [
    "#coords_part = coords[['lon', 'lat', 'speed']][750:880].values\n",
    "#coords_part = coords[['lon', 'lat', 'speed']][750:980].values\n",
    "coords_part = coords[['lon', 'lat', 'speed']][750:830].values\n",
    "measurements_part = np.ma.masked_invalid(coords_part)\n",
    "times_part = range(measurements_part.shape[0])\n",
    "\n",
    "#lon_plt = plt.subplot(311)\n",
    "#lon_plt.plot(times_part, measurements_part[:, 0], 'b-')\n",
    "#lat_plt = plt.subplot(312)\n",
    "#lat_plt.plot(times_part, measurements_part[:, 1], 'b-')\n",
    "#speed_plt = plt.subplot(313)\n",
    "#speed_plt.plot(times_part, measurements_part[:, 2], 'b-')\n",
    "\n",
    "#data_plt = plt.subplot(324)\n",
    "#data_plt.plot(measurements_part[:, 0], measurements_part[:, 1], 'b-')\n"
   ]
  },
  {
   "cell_type": "code",
   "execution_count": null,
   "metadata": {},
   "outputs": [],
   "source": [
    "class KF:\n",
    "    def __init__(self, q, r, f = 1, h = 1):\n",
    "        self.X0 = 0.0 # predicted state\n",
    "        self.P0 = 0.0 # predicted covariance\n",
    "\n",
    "        self.F = 0.0 # factor of real value to previous real value\n",
    "        self.Q = 0.0 # measurement noise\n",
    "        self.H = 0.0 # factor of measured value to real value\n",
    "        self.R = 0.0 # environment noise\n",
    "\n",
    "        self.Q = q\n",
    "        self.R = r\n",
    "        self.F = f\n",
    "        self.H = h\n",
    "    def set(self, state, covariance):\n",
    "        self.State = state\n",
    "        self.Covariance = covariance\n",
    "    def correct(self, data):\n",
    "        # time update - prediction\n",
    "        self.X0 = self.F * self.State\n",
    "        self.P0 = self.F * self.Covariance * self.F + self.Q\n",
    "\n",
    "        # measurement update - correction\n",
    "        K = self.H * self.P0 / (self.H * self.P0 * self.H + self.R)\n",
    "        self.State = self.X0 + K * (data - self.H * self.X0)\n",
    "        self.Covariance = (1 - K * self.H) * self.P0\n",
    "\n",
    "def smooth(arr):\n",
    "    out = []\n",
    "    kf = KF(q=2, r=15, f=1, h=1)\n",
    "    kf.set(arr[0], 0.1)\n",
    "    for d in arr:\n",
    "        kf.correct(d)\n",
    "        out.append(kf.State)\n",
    "    return out"
   ]
  },
  {
   "cell_type": "code",
   "execution_count": null,
   "metadata": {},
   "outputs": [],
   "source": [
    "# Fixed description of vars\n",
    "# Renamed vars in correct()\n",
    "class KF:\n",
    "    def __init__(self, q, r, f = 1, h = 1):\n",
    "        self.F = 0.0 # factor of real value to previous real value\n",
    "        self.Q = 0.0 # covariance of untracked influences\n",
    "        self.H = 0.0 # factor of measured value to real value\n",
    "        self.R = 0.0 # covariance of measurement noise\n",
    "        self.Xprev = 0.0 # previous state\n",
    "        self.Pprev = 0.0 # previous covariance\n",
    "\n",
    "        self.Q = q\n",
    "        self.R = r\n",
    "        self.F = f\n",
    "        self.H = h\n",
    "    def set(self, x, covariance):\n",
    "        self.Xprev = x\n",
    "        self.Pprev = covariance\n",
    "    def correct(self, data):\n",
    "        # time update - prediction\n",
    "        Xpredicted = self.F * self.Xprev\n",
    "        Ppredicted = self.F * self.Pprev * self.F + self.Q\n",
    "\n",
    "        # measurement update - correction\n",
    "        K = self.H * Ppredicted / (self.H * Ppredicted * self.H + self.R)\n",
    "        \n",
    "        Xnew = Xpredicted + K * (data - self.H * Xpredicted)\n",
    "        Pnew = Ppredicted - K * self.H * Ppredicted\n",
    "        \n",
    "        self.Xprev = Xnew\n",
    "        self.Pprev = Pnew\n",
    "\n",
    "def smooth(arr):\n",
    "    out = []\n",
    "    #kf = KF(q=2, r=15, f=1, h=1)\n",
    "    kf = KF(q=0.2, r=0.1, f=1, h=1)\n",
    "    kf.set(arr[0], 0.0)\n",
    "    for d in arr:\n",
    "        kf.correct(d)\n",
    "        out.append(kf.Xprev)\n",
    "    return out"
   ]
  },
  {
   "cell_type": "code",
   "execution_count": null,
   "metadata": {},
   "outputs": [],
   "source": [
    "def smoothAndDraw(arr, arr_plt):\n",
    "    out = smooth(arr)\n",
    "    arr_plt.plot(\n",
    "        times_part, arr, 'b-',\n",
    "        times_part, out, 'g-',\n",
    "    )\n",
    "    return out\n",
    "    \n",
    "lon_plt = plt.subplot(311)\n",
    "new_lon = smoothAndDraw(measurements_part[:, 0], lon_plt)\n",
    "lat_plt = plt.subplot(312)\n",
    "new_lat = smoothAndDraw(measurements_part[:, 1], lat_plt)\n",
    "speed_plt = plt.subplot(313)\n",
    "x = smoothAndDraw(measurements_part[:, 2], speed_plt)\n",
    "\n",
    "\n"
   ]
  },
  {
   "cell_type": "code",
   "execution_count": null,
   "metadata": {},
   "outputs": [],
   "source": [
    "plt.plot(\n",
    "    measurements_part[:, 0], measurements_part[:, 1], 'b-',\n",
    "    new_lon, new_lat, 'g-'\n",
    ")\n"
   ]
  }
 ],
 "metadata": {
  "kernelspec": {
   "display_name": "Python 3",
   "language": "python",
   "name": "python3"
  },
  "language_info": {
   "codemirror_mode": {
    "name": "ipython",
    "version": 3
   },
   "file_extension": ".py",
   "mimetype": "text/x-python",
   "name": "python",
   "nbconvert_exporter": "python",
   "pygments_lexer": "ipython3",
   "version": "3.8.0"
  }
 },
 "nbformat": 4,
 "nbformat_minor": 4
}
