{
 "cells": [
  {
   "cell_type": "code",
   "execution_count": null,
   "metadata": {},
   "outputs": [],
   "source": [
    "from pykalman import KalmanFilter\n",
    "import numpy as np\n",
    "import matplotlib.pyplot as plt\n",
    "import time\n",
    "from rdp import rdp\n",
    "%matplotlib inline\n",
    "plt.rcParams['figure.figsize'] = [10, 10]"
   ]
  },
  {
   "cell_type": "code",
   "execution_count": null,
   "metadata": {},
   "outputs": [],
   "source": [
    "import gpxpy\n",
    "\n",
    "with open('m8t.gpx') as fh:\n",
    "    gpx_file = gpxpy.parse(fh)"
   ]
  },
  {
   "cell_type": "code",
   "execution_count": null,
   "metadata": {},
   "outputs": [],
   "source": [
    "segment = gpx_file.tracks[0].segments[1]\n",
    "\n",
    "import pandas as pd\n",
    "coords = pd.DataFrame([{'idx': i,\n",
    "                        'lat': p.latitude, \n",
    "                        'lon': p.longitude, \n",
    "                        'ele': p.elevation,\n",
    "                        'speed': p.speed,\n",
    "                        'time': p.time} for i, p in enumerate(segment.points)])\n",
    "coords.set_index('time', inplace=True)\n",
    "coords.head()"
   ]
  },
  {
   "cell_type": "code",
   "execution_count": null,
   "metadata": {},
   "outputs": [],
   "source": [
    "measurements_all = np.ma.masked_invalid(coords[['lon', 'lat', 'speed']].values)\n",
    "times_all = range(measurements_all.shape[0])"
   ]
  },
  {
   "cell_type": "code",
   "execution_count": null,
   "metadata": {
    "scrolled": true
   },
   "outputs": [],
   "source": [
    "plt.plot(measurements_all[:, 0], measurements_all[:, 1], 'bo')"
   ]
  },
  {
   "cell_type": "code",
   "execution_count": null,
   "metadata": {},
   "outputs": [],
   "source": [
    "#coords_part = coords[['lon', 'lat', 'speed']][750:880].values\n",
    "coords_part = coords[['lon', 'lat', 'speed']][750:980].values\n",
    "measurements_part = np.ma.masked_invalid(coords_part)\n",
    "plt.plot(range(measurements_part.shape[0]), measurements_part[:, 2], 'bo')"
   ]
  },
  {
   "cell_type": "code",
   "execution_count": null,
   "metadata": {},
   "outputs": [],
   "source": [
    "simple_coords = rdp(coords_part[:,[0,1]], algo=\"iter\", epsilon=1e-5)\n",
    "measurements_reduced = np.ma.masked_invalid(simple_coords)\n",
    "#measurements_reduced = measurements_part[measurements_part[:,2] > 1]\n",
    "plt.plot(measurements_part[:, 0], measurements_part[:, 1], 'go',\n",
    "         measurements_reduced[:, 0], measurements_reduced[:, 1], 'rx',\n",
    "        )"
   ]
  },
  {
   "cell_type": "code",
   "execution_count": null,
   "metadata": {},
   "outputs": [],
   "source": [
    "#measurements = np.ma.masked_invalid(coords[['lon', 'lat', 'speed']][750:880].values)\n",
    "#times = range(measurements.shape[0])\n",
    "#measurements = np.ma.masked_invalid(coords[['lon', 'lat', 'speed']][780:810].values)\n",
    "#times = range(measurements.shape[0])\n",
    "measurements = measurements_part\n",
    "times = range(measurements.shape[0])\n"
   ]
  },
  {
   "cell_type": "code",
   "execution_count": null,
   "metadata": {},
   "outputs": [],
   "source": [
    "plt.plot(measurements[:, 0], measurements[:, 1], 'bo')"
   ]
  },
  {
   "cell_type": "code",
   "execution_count": null,
   "metadata": {},
   "outputs": [],
   "source": [
    "#plt.plot(times, measurements[:, 0], 'bo')"
   ]
  },
  {
   "cell_type": "code",
   "execution_count": null,
   "metadata": {},
   "outputs": [],
   "source": [
    "#plt.plot(times, measurements[:, 1], 'bo')"
   ]
  },
  {
   "cell_type": "code",
   "execution_count": null,
   "metadata": {},
   "outputs": [],
   "source": [
    "#plt.plot(times, measurements[:, 2], 'bo')"
   ]
  },
  {
   "cell_type": "code",
   "execution_count": null,
   "metadata": {},
   "outputs": [],
   "source": [
    "xy = measurements[:, [0,1]]\n"
   ]
  },
  {
   "cell_type": "code",
   "execution_count": null,
   "metadata": {},
   "outputs": [],
   "source": [
    "initial_state_mean = [xy[0, 0],\n",
    "                      0,\n",
    "                      xy[0, 1],\n",
    "                      0]\n",
    "\n",
    "transition_matrix = [[1, 1, 0, 0],\n",
    "                     [0, 1, 0, 0],\n",
    "                     [0, 0, 1, 1],\n",
    "                     [0, 0, 0, 1]]\n",
    "\n",
    "observation_matrix = [[1, 0, 0, 0],\n",
    "                      [0, 0, 1, 0]]\n",
    "\n",
    "kf1 = KalmanFilter(transition_matrices = transition_matrix,\n",
    "                  observation_matrices = observation_matrix,\n",
    "                  initial_state_mean = initial_state_mean)\n",
    "\n",
    "kf1 = kf1.em(xy, n_iter=100)\n",
    "(smoothed_state_means, smoothed_state_covariances) = kf1.filter(xy)\n",
    "\n",
    "kf2 = KalmanFilter(transition_matrices = transition_matrix,\n",
    "                  observation_matrices = observation_matrix,\n",
    "                  initial_state_mean = initial_state_mean,\n",
    "                  observation_covariance = 10*kf1.observation_covariance,\n",
    "                  em_vars=['transition_covariance', 'initial_state_covariance'])\n",
    "\n",
    "kf2 = kf2.em(xy, n_iter=100)\n",
    "(smoothed_state_means2, smoothed_state_covariances2)  = kf2.filter(xy)\n"
   ]
  },
  {
   "cell_type": "code",
   "execution_count": null,
   "metadata": {
    "scrolled": true
   },
   "outputs": [],
   "source": [
    "fig=plt.figure()\n",
    "plt.plot(xy[:, 0], xy[:, 1], 'bo',\n",
    "         smoothed_state_means[:, 0], smoothed_state_means[:, 2], 'g--',\n",
    "         smoothed_state_means2[:, 0], smoothed_state_means2[:, 2], 'r--')\n",
    "plt.show()\n"
   ]
  },
  {
   "cell_type": "code",
   "execution_count": null,
   "metadata": {},
   "outputs": [],
   "source": [
    "import mplleaflet\n",
    "mplleaflet.display(fig=fig)"
   ]
  },
  {
   "cell_type": "code",
   "execution_count": null,
   "metadata": {},
   "outputs": [],
   "source": [
    "#plt.plot(times, xy[:, 0], 'bo',\n",
    "#         times, smoothed_state_means[:, 0], 'r--')\n"
   ]
  },
  {
   "cell_type": "code",
   "execution_count": null,
   "metadata": {},
   "outputs": [],
   "source": [
    "#plt.plot(times, xy[:, 1], 'bo',\n",
    "#         times, smoothed_state_means[:, 2], 'r--')"
   ]
  },
  {
   "cell_type": "code",
   "execution_count": null,
   "metadata": {},
   "outputs": [],
   "source": [
    "gpx = gpxpy.gpx.GPX()\n",
    "\n",
    "# Create first track in our GPX:\n",
    "gpx_track = gpxpy.gpx.GPXTrack()\n",
    "gpx.tracks.append(gpx_track)\n",
    "\n",
    "# Create first segment in our GPX track:\n",
    "gpx_segment = gpxpy.gpx.GPXTrackSegment()\n",
    "gpx_track.segments.append(gpx_segment)\n",
    "\n",
    "# Create points:\n",
    "for point in smoothed_state_means:\n",
    "    gpx_segment.points.append(gpxpy.gpx.GPXTrackPoint(point[2], point[0]))\n",
    "\n",
    "with open(\"output.gpx\", \"w\") as f:\n",
    "    f.write( gpx.to_xml())"
   ]
  }
 ],
 "metadata": {
  "kernelspec": {
   "display_name": "Python 3",
   "language": "python",
   "name": "python3"
  },
  "language_info": {
   "codemirror_mode": {
    "name": "ipython",
    "version": 3
   },
   "file_extension": ".py",
   "mimetype": "text/x-python",
   "name": "python",
   "nbconvert_exporter": "python",
   "pygments_lexer": "ipython3",
   "version": "3.8.0"
  }
 },
 "nbformat": 4,
 "nbformat_minor": 4
}
