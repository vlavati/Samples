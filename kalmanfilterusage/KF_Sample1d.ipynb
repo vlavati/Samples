{
 "cells": [
  {
   "cell_type": "code",
   "execution_count": null,
   "metadata": {},
   "outputs": [],
   "source": [
    "import numpy as np\n",
    "import pylab as pl\n",
    "from pykalman import KalmanFilter\n",
    "\n",
    "# specify parameters\n",
    "random_state = np.random.RandomState(0)\n"
   ]
  },
  {
   "cell_type": "code",
   "execution_count": null,
   "metadata": {},
   "outputs": [],
   "source": [
    "t = np.linspace(0, 2 * np.pi, 50)\n",
    "t"
   ]
  },
  {
   "cell_type": "code",
   "execution_count": null,
   "metadata": {},
   "outputs": [],
   "source": [
    "x = np.sin(t)\n",
    "x"
   ]
  },
  {
   "cell_type": "code",
   "execution_count": null,
   "metadata": {},
   "outputs": [],
   "source": [
    "x_noised = x + 0.1 *random_state.randn(*x.shape)\n",
    "x_noised"
   ]
  },
  {
   "cell_type": "code",
   "execution_count": null,
   "metadata": {},
   "outputs": [],
   "source": [
    "# Fixed description of vars\n",
    "# Renamed vars in correct()\n",
    "class KF:\n",
    "    def __init__(self, q, r, f = 1, h = 1):\n",
    "        self.F = 0.0 # factor of real value to previous real value\n",
    "        self.Q = 0.0 # covariance of untracked influences\n",
    "        self.H = 0.0 # factor of measured value to real value\n",
    "        self.R = 0.0 # covariance of measurement noise\n",
    "        self.Xprev = 0.0 # previous state\n",
    "        self.Pprev = 0.0 # previous covariance\n",
    "\n",
    "        self.Q = q\n",
    "        self.R = r\n",
    "        self.F = f\n",
    "        self.H = h\n",
    "    def set(self, x, covariance):\n",
    "        self.Xprev = x\n",
    "        self.Pprev = covariance\n",
    "    def correct(self, data):\n",
    "        # time update - prediction\n",
    "        Xpredicted = self.F * self.Xprev\n",
    "        Ppredicted = self.F * self.Pprev * self.F + self.Q\n",
    "\n",
    "        # measurement update - correction\n",
    "        K = self.H * Ppredicted / (self.H * Ppredicted * self.H + self.R)\n",
    "        \n",
    "        Xnew = Xpredicted + K * (data - self.H * Xpredicted)\n",
    "        Pnew = Ppredicted - K * self.H * Ppredicted\n",
    "        \n",
    "        self.Xprev = Xnew\n",
    "        self.Pprev = Pnew\n",
    "\n",
    "def smooth(arr):\n",
    "    out = []\n",
    "    kf = KF(q=2, r=15, f=1, h=1)\n",
    "    #kf = KF(q=1, r=10, f=1, h=1)\n",
    "    kf.set(arr[0], 0)\n",
    "    for d in arr:\n",
    "        kf.correct(d)\n",
    "        out.append(kf.Xprev)\n",
    "    return out"
   ]
  },
  {
   "cell_type": "code",
   "execution_count": null,
   "metadata": {},
   "outputs": [],
   "source": [
    "def filterPy(arr):\n",
    "    kf = KalmanFilter(\n",
    "        transition_matrices = np.eye(1), # F\n",
    "        transition_covariance = [2], #np.eye(1), #Q\n",
    "        transition_offsets = np.zeros(1),\n",
    "        observation_matrices = np.eye(1), # H\n",
    "        observation_covariance = [15], #np.eye(1), # R\n",
    "        observation_offsets = np.zeros(1),\n",
    "        initial_state_mean = [arr[0]],\n",
    "        initial_state_covariance = [0]\n",
    "    )\n",
    "    return kf.filter(arr)[0]\n",
    "\n",
    "def filter2Py(arr):\n",
    "    kf = KalmanFilter(\n",
    "        transition_matrices = np.eye(1), # F\n",
    "        transition_covariance = [2], #np.eye(1), #Q\n",
    "        transition_offsets = np.zeros(1),\n",
    "        observation_matrices = np.eye(1), # H\n",
    "        observation_covariance = [15], #np.eye(1), # R\n",
    "        observation_offsets = np.zeros(1),\n",
    "        initial_state_mean = [arr[0]],\n",
    "        initial_state_covariance = [0]\n",
    "    )\n",
    "    mean, covariance = arr[0], 0\n",
    "    out = []\n",
    "    for d in arr:\n",
    "        mean, covariance = kf.filter_update(mean, covariance, observation = d)\n",
    "        out.append(mean.item(0))\n",
    "    return out\n",
    "\n",
    "\n",
    "def smoothPy(arr):\n",
    "    kf = KalmanFilter(\n",
    "        transition_matrices = np.eye(1), # F\n",
    "        transition_covariance = [2], #np.eye(1), #Q\n",
    "        transition_offsets = np.zeros(1),\n",
    "        observation_matrices = np.eye(1), # H\n",
    "        observation_covariance = [15], #np.eye(1), # R\n",
    "        observation_offsets = np.zeros(1),\n",
    "        initial_state_mean = [arr[0]],\n",
    "        initial_state_covariance = [0]\n",
    "    )\n",
    "    return kf.smooth(arr)[0]"
   ]
  },
  {
   "cell_type": "code",
   "execution_count": null,
   "metadata": {},
   "outputs": [],
   "source": [
    "pl.rcParams['figure.figsize'] = [10, 10]\n",
    "pl.figure()\n",
    "pl.plot(x, 'b-')\n",
    "pl.plot(x_noised, 'g-')\n",
    "pl.plot(smooth(x_noised), 'r-')\n",
    "pl.plot(filterPy(x_noised), 'cx')\n",
    "pl.plot(filter2Py(x_noised), 'co')\n",
    "pl.plot(smoothPy(x_noised), 'rx')\n",
    "pl.show()"
   ]
  }
 ],
 "metadata": {
  "kernelspec": {
   "display_name": "Python 3",
   "language": "python",
   "name": "python3"
  },
  "language_info": {
   "codemirror_mode": {
    "name": "ipython",
    "version": 3
   },
   "file_extension": ".py",
   "mimetype": "text/x-python",
   "name": "python",
   "nbconvert_exporter": "python",
   "pygments_lexer": "ipython3",
   "version": "3.8.0"
  }
 },
 "nbformat": 4,
 "nbformat_minor": 4
}
